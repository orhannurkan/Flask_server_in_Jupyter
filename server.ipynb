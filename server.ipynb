{
 "cells": [
  {
   "cell_type": "markdown",
   "metadata": {},
   "source": [
    "# Implementation of Python and Requests with Flask REST API Todo Tutorial"
   ]
  },
  {
   "cell_type": "code",
   "execution_count": 76,
   "metadata": {},
   "outputs": [],
   "source": [
    "from flask import Flask, request  # import main Flask class and request object\n",
    "import random"
   ]
  },
  {
   "cell_type": "code",
   "execution_count": 77,
   "metadata": {},
   "outputs": [],
   "source": [
    "app1 = Flask(__name__)  # create the Flask app"
   ]
  },
  {
   "cell_type": "code",
   "execution_count": 78,
   "metadata": {},
   "outputs": [],
   "source": [
    "@app1.route('/status', methods=['GET'])\n",
    "def a_live():\n",
    "    return \"Alive!\""
   ]
  },
  {
   "cell_type": "code",
   "execution_count": 79,
   "metadata": {},
   "outputs": [],
   "source": [
    "@app1.route('/predict', methods=['GET'])\n",
    "def predict():\n",
    "    demo=random.randint(2000, 5000)    \n",
    "    return str(demo)"
   ]
  },
  {
   "cell_type": "code",
   "execution_count": 75,
   "metadata": {},
   "outputs": [
    {
     "output_type": "stream",
     "name": "stdout",
     "text": [
      " * Serving Flask app \"__main__\" (lazy loading)\n",
      " * Environment: production\n",
      "   WARNING: This is a development server. Do not use it in a production deployment.\n",
      "   Use a production WSGI server instead.\n",
      " * Debug mode: off\n",
      " * Running on http://127.0.0.1:5000/ (Press CTRL+C to quit)\n",
      "127.0.0.1 - - [28/Nov/2020 12:17:07] \"\u001b[37mGET /status HTTP/1.1\u001b[0m\" 200 -\n",
      "127.0.0.1 - - [28/Nov/2020 12:17:23] \"\u001b[37mGET /status HTTP/1.1\u001b[0m\" 200 -\n",
      "127.0.0.1 - - [28/Nov/2020 12:17:25] \"\u001b[37mGET /predict HTTP/1.1\u001b[0m\" 200 -\n",
      "127.0.0.1 - - [28/Nov/2020 12:17:29] \"\u001b[37mGET /predict HTTP/1.1\u001b[0m\" 200 -\n",
      "127.0.0.1 - - [28/Nov/2020 12:17:32] \"\u001b[37mGET /predict HTTP/1.1\u001b[0m\" 200 -\n",
      "127.0.0.1 - - [28/Nov/2020 12:17:35] \"\u001b[37mGET /predict HTTP/1.1\u001b[0m\" 200 -\n",
      "127.0.0.1 - - [28/Nov/2020 12:17:54] \"\u001b[37mGET /status HTTP/1.1\u001b[0m\" 200 -\n",
      "127.0.0.1 - - [28/Nov/2020 12:17:54] \"\u001b[37mGET /predict HTTP/1.1\u001b[0m\" 200 -\n",
      "127.0.0.1 - - [28/Nov/2020 12:17:55] \"\u001b[37mGET /predict HTTP/1.1\u001b[0m\" 200 -\n",
      "127.0.0.1 - - [28/Nov/2020 12:17:56] \"\u001b[37mGET /predict HTTP/1.1\u001b[0m\" 200 -\n",
      "127.0.0.1 - - [28/Nov/2020 12:17:56] \"\u001b[37mGET /predict HTTP/1.1\u001b[0m\" 200 -\n",
      "127.0.0.1 - - [28/Nov/2020 12:17:56] \"\u001b[37mGET /predict HTTP/1.1\u001b[0m\" 200 -\n",
      "127.0.0.1 - - [28/Nov/2020 12:17:56] \"\u001b[37mGET /predict HTTP/1.1\u001b[0m\" 200 -\n",
      "127.0.0.1 - - [28/Nov/2020 12:18:55] \"\u001b[33mGET / HTTP/1.1\u001b[0m\" 404 -\n",
      "127.0.0.1 - - [28/Nov/2020 12:19:04] \"\u001b[37mGET /status HTTP/1.1\u001b[0m\" 200 -\n"
     ]
    }
   ],
   "source": [
    "app1.run(port=5000)  # run app in debug mode on port 5000"
   ]
  }
 ],
 "metadata": {
  "kernelspec": {
   "display_name": "Python 3",
   "language": "python",
   "name": "python3"
  },
  "language_info": {
   "codemirror_mode": {
    "name": "ipython",
    "version": 3
   },
   "file_extension": ".py",
   "mimetype": "text/x-python",
   "name": "python",
   "nbconvert_exporter": "python",
   "pygments_lexer": "ipython3",
   "version": "3.8.3-final"
  }
 },
 "nbformat": 4,
 "nbformat_minor": 2
}